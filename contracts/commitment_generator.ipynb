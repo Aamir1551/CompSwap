{
 "cells": [
  {
   "cell_type": "code",
   "execution_count": 1,
   "metadata": {},
   "outputs": [],
   "source": [
    "import random\n",
    "from web3 import Web3"
   ]
  },
  {
   "cell_type": "code",
   "execution_count": 2,
   "metadata": {},
   "outputs": [
    {
     "name": "stdout",
     "output_type": "stream",
     "text": [
      "Provider Commitments:\n",
      "Provider Answer Hash: 0xfa92c6ba12f3348d117f0c549245d6d641f41f9ab44992bb26ba9b925f110702\n",
      "Provider Key: 965\n",
      "Initialisation Vector: 1493\n",
      "\n",
      "Verifier Commitments:\n",
      "Verifier 1 Commitment: 0x8e91bd8799aa001718330aec2f53f70eef8344cf6c265aa3fe414ac160aa973a\n",
      "Verifier 1 Nonce: 0xc52f59020556b9e60984c78a1c5cfe7efbbbd5c4df4b8a36056205438cce9a18\n",
      "Verifier 2 Commitment: 0x0bbdb9cfaa1b2def447ce2a7c47fde82780f903648208f5dbe4f801d6d3a00f1\n",
      "Verifier 2 Nonce: 0xb81415eeea3b749577614cd7eee7670471ea30e96b9c7aba53f4dcb8576be57f\n",
      "Verifier 3 Commitment: 0x8c1ed91c7d852bada21a68707e2e4b546c3c369101fbada3af74987106c359f8\n",
      "Verifier 3 Nonce: 0xa36e7fe384b0d77a0dd4f1c29c911a1f2521f17157d86ead9db802f16fa63073\n",
      "Verifier 4 Commitment: 0xcd5a4d0dabec036148e80690cdd566d680210b3c0b1e82915caa78f76250b9b4\n",
      "Verifier 4 Nonce: 0x4e334aa55000424b164f36e545a4c3f115833ce4daed0bb1e8f0d5094239a0ff\n",
      "Verifier 5 Commitment: 0xe9e736f3274ea72b218830465da84ee217fe6ea98c19779cbc3139661fb064f8\n",
      "Verifier 5 Nonce: 0x099ad16b8b251afe83c9f50dab14514cbdea979f517fcc502e5069c4f0f2beba\n"
     ]
    }
   ],
   "source": [
    "provider_answer_hash = Web3.keccak(text=\"hashed_answer\") # set to your own hashed answer\n",
    "\n",
    "provider_key = random.randint(0, 10000) # set to your own private key\n",
    "initialisation_vector = random.randint(0, 10000) # set to your own initialisation vector\n",
    "\n",
    "# Generate commitments for each verifier (using their own nonce and the hashed answer)\n",
    "verifier_commitments = []\n",
    "verifier_nonces = []\n",
    "verifier_addresses = [\"0x5F373754819cCA00230eCFBE55419d76329b585A\", \n",
    "                      \"0x93764B46e418b16Ae60cd115CFa7b7Ab1C59e9F6\",\n",
    "                      \"0xBB8a6A672e4A8A2280D734E5E19225c4beFFC561\", \n",
    "                      \"0x4400B62B62a2049BC24a83E77Cd9F2f4A6B72171\", \n",
    "                      \"0x54CD26745fD46fE30680EE504c952D0B57E377ee\"]\n",
    "\n",
    "for i in range(5):  # Assuming 5 verifiers\n",
    "    nonce = Web3.keccak(text=f\"nonce_{i}\")\n",
    "    concatenated = Web3.solidity_keccak(\n",
    "        ['bytes32', 'bytes32', 'address'],\n",
    "        [provider_answer_hash, nonce, verifier_addresses[i]]\n",
    "    )\n",
    "    verifier_commitments.append(concatenated)\n",
    "    verifier_nonces.append(nonce)\n",
    "\n",
    "# Print out commitments for copying into Remix\n",
    "print(\"Provider Commitments:\")\n",
    "print(f\"Provider Answer Hash: {provider_answer_hash.hex()}\")\n",
    "print(f\"Provider Key: {provider_key}\")\n",
    "print(f\"Initialisation Vector: {initialisation_vector}\")\n",
    "\n",
    "print(\"\\nVerifier Commitments:\")\n",
    "for i, (commitment, nonce) in enumerate(zip(verifier_commitments, verifier_nonces)):\n",
    "    print(f\"Verifier {i + 1} Commitment: {commitment.hex()}\")\n",
    "    print(f\"Verifier {i + 1} Nonce: {nonce.hex()}\")"
   ]
  }
 ],
 "metadata": {
  "kernelspec": {
   "display_name": "test",
   "language": "python",
   "name": "python3"
  },
  "language_info": {
   "codemirror_mode": {
    "name": "ipython",
    "version": 3
   },
   "file_extension": ".py",
   "mimetype": "text/x-python",
   "name": "python",
   "nbconvert_exporter": "python",
   "pygments_lexer": "ipython3",
   "version": "3.12.4"
  }
 },
 "nbformat": 4,
 "nbformat_minor": 2
}
